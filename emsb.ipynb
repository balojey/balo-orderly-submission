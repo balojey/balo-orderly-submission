{
 "cells": [
  {
   "cell_type": "code",
   "execution_count": 2,
   "id": "88177fd2-bb7e-47bc-ad0d-ff5264f0d70a",
   "metadata": {},
   "outputs": [
    {
     "data": {
      "text/plain": [
       "True"
      ]
     },
     "execution_count": 2,
     "metadata": {},
     "output_type": "execute_result"
    }
   ],
   "source": [
    "from dotenv import load_dotenv\n",
    "import os\n",
    "import pandas as pd\n",
    "import matplotlib.pyplot as plt\n",
    "\n",
    "from eth_rpc import PrivateKeyWallet\n",
    "from emp_orderly.utils import from_address\n",
    "from emp_orderly import (\n",
    "    Strategy, EmpOrderly,\n",
    "    crossover, plot_heatmaps,\n",
    "    EMA, SMA, SLOPE, CHOP,\n",
    "    EmpyrealOrderlySDK,\n",
    ")\n",
    "from emp_orderly.onboarding.faucet import request_testnet_funds as faucet\n",
    "from emp_orderly.onboarding import deposit\n",
    "from emp_orderly_types import PerpetualAssetType, Interval, OrderType\n",
    "\n",
    "load_dotenv()"
   ]
  },
  {
   "cell_type": "code",
   "execution_count": 3,
   "id": "f79fa4a0-e27c-41e7-8630-058c65a9ad10",
   "metadata": {},
   "outputs": [],
   "source": [
    "wallet = PrivateKeyWallet(private_key=os.getenv(\"PRIVATE_KEY\"))\n",
    "orderly_id = from_address(wallet.address)\n",
    "\n",
    "sdk = EmpyrealOrderlySDK(pvt_hex=wallet.private_key, account_id=orderly_id, is_testnet=True)"
   ]
  },
  {
   "cell_type": "code",
   "execution_count": 4,
   "id": "edcc69cc",
   "metadata": {},
   "outputs": [
    {
     "name": "stdout",
     "output_type": "stream",
     "text": [
      "0xd3E45819C43e582C7Ecfe2e7BFcD2544a7e53e4c\n"
     ]
    }
   ],
   "source": [
    "print(wallet.address)"
   ]
  },
  {
   "cell_type": "code",
   "execution_count": 5,
   "id": "808e074c",
   "metadata": {},
   "outputs": [
    {
     "data": {
      "text/plain": [
       "False"
      ]
     },
     "execution_count": 5,
     "metadata": {},
     "output_type": "execute_result"
    }
   ],
   "source": [
    "await faucet(wallet)"
   ]
  },
  {
   "cell_type": "code",
   "execution_count": 6,
   "id": "e0c43f12",
   "metadata": {},
   "outputs": [
    {
     "data": {
      "text/plain": [
       "'0xac8396aaa238c19212162451bd5c9a3779693fe9e6591844cff493347547b9bb'"
      ]
     },
     "execution_count": 6,
     "metadata": {},
     "output_type": "execute_result"
    }
   ],
   "source": [
    "await deposit(wallet)"
   ]
  },
  {
   "cell_type": "code",
   "execution_count": 7,
   "id": "3cbca89b",
   "metadata": {},
   "outputs": [
    {
     "name": "stdout",
     "output_type": "stream",
     "text": [
      "109545375600000000\n"
     ]
    }
   ],
   "source": [
    "print(await wallet.balance())"
   ]
  },
  {
   "cell_type": "code",
   "execution_count": 8,
   "id": "c83772b1-7242-42f9-88c5-e85a99dd1065",
   "metadata": {},
   "outputs": [
    {
     "data": {
      "text/plain": [
       "Start                     2024-09-17 14:00:00\n",
       "End                       2024-09-21 09:15:00\n",
       "Duration                      3 days 19:15:00\n",
       "Exposure Time [%]                   97.080292\n",
       "Equity Final [$]                  1096.666956\n",
       "Equity Peak [$]                   1109.763157\n",
       "Return [%]                           9.666696\n",
       "Buy & Hold Return [%]               21.128922\n",
       "Return (Ann.) [%]                 13147.12813\n",
       "Volatility (Ann.) [%]             3984.786893\n",
       "Sharpe Ratio                          3.29933\n",
       "Sortino Ratio                             inf\n",
       "Calmar Ratio                     10015.200827\n",
       "Max. Drawdown [%]                   -1.312717\n",
       "Avg. Drawdown [%]                   -0.415796\n",
       "Max. Drawdown Duration        1 days 01:10:00\n",
       "Avg. Drawdown Duration        0 days 04:47:00\n",
       "# Trades                                   20\n",
       "Win Rate [%]                             40.0\n",
       "Best Trade [%]                       9.450381\n",
       "Worst Trade [%]                     -0.884155\n",
       "Avg. Trade [%]                       0.914793\n",
       "Max. Trade Duration           0 days 23:35:00\n",
       "Avg. Trade Duration           0 days 04:26:00\n",
       "Profit Factor                        5.290297\n",
       "Expectancy [%]                       0.950881\n",
       "SQN                                  1.516115\n",
       "Kelly Criterion                      0.324261\n",
       "_strategy                                EMSB\n",
       "_equity_curve                             ...\n",
       "_trades                       Size  EntryB...\n",
       "dtype: object"
      ]
     },
     "execution_count": 8,
     "metadata": {},
     "output_type": "execute_result"
    }
   ],
   "source": [
    "class EMSB(Strategy):\n",
    "    \"\"\"EMA Momentum and Slope Breakout Strategy.\n",
    "    \n",
    "    order_size: The amount of order that can be \n",
    "        made at a time.\n",
    "    days_length_1: 12 days length for \n",
    "        calculating 12 days EMA.\n",
    "    days_length_2: 26 days length for \n",
    "        calculating 26 days EMA.\n",
    "    length: The number of days the Strategy is \n",
    "        intended to run for.\n",
    "    \"\"\"\n",
    "\n",
    "    order_size: float = 0.5\n",
    "    days_length_1: int = 12\n",
    "    days_length_2: int = 26\n",
    "    length: int = 14\n",
    "    \n",
    "    @classmethod\n",
    "    def update_lags(cls, days_length_1, days_length_2, length):\n",
    "        cls.days_length_1 = days_length_1\n",
    "        cls.days_length_2 = days_length_2\n",
    "        cls.length = length\n",
    "\n",
    "    def init(self):\n",
    "        close = self.data.close\n",
    "        self.sma_days_1 = self.I(EMA, close, self.days_length_1)\n",
    "        self.sma_days_2 = self.I(EMA, close, self.days_length_2)\n",
    "\n",
    "    def next(self):\n",
    "        if (\n",
    "            crossover(self.sma_days_1, self.sma_days_2)\n",
    "        ):\n",
    "            self.position.close()\n",
    "            self.buy(size=self.order_size)\n",
    "        elif (\n",
    "            crossover(self.sma_days_2, self.sma_days_1)\n",
    "        ):\n",
    "            self.position.close()\n",
    "            self.sell(size=self.order_size)\n",
    "\n",
    "\n",
    "tester = EmpOrderly(\n",
    "    cash=1000,\n",
    "    commission=.0001,\n",
    "    exclusive_orders=True,\n",
    "    sdk=sdk,\n",
    ")\n",
    "\n",
    "# load strategy and data\n",
    "tester.set_strategy(EMSB)\n",
    "await tester.load_data(\n",
    "    lookback=14,\n",
    "    interval=Interval.five_minute,\n",
    "    asset=PerpetualAssetType.APT,\n",
    ")\n",
    "# print(tester._history[tester._history[\"volume\"] > 0])\n",
    "\n",
    "# backtest\n",
    "tester.backtest()"
   ]
  },
  {
   "cell_type": "code",
   "execution_count": 9,
   "id": "7689380f",
   "metadata": {},
   "outputs": [],
   "source": [
    "# # plot\n",
    "# tester.plot(show_price_data=False)\n",
    "# plt.show()"
   ]
  }
 ],
 "metadata": {
  "kernelspec": {
   "display_name": "Python 3 (ipykernel)",
   "language": "python",
   "name": "python3"
  },
  "language_info": {
   "codemirror_mode": {
    "name": "ipython",
    "version": 3
   },
   "file_extension": ".py",
   "mimetype": "text/x-python",
   "name": "python",
   "nbconvert_exporter": "python",
   "pygments_lexer": "ipython3",
   "version": "3.12.1"
  }
 },
 "nbformat": 4,
 "nbformat_minor": 5
}

{
 "cells": [
  {
   "cell_type": "code",
   "execution_count": 1,
   "id": "88177fd2-bb7e-47bc-ad0d-ff5264f0d70a",
   "metadata": {},
   "outputs": [
    {
     "data": {
      "text/plain": [
       "True"
      ]
     },
     "execution_count": 1,
     "metadata": {},
     "output_type": "execute_result"
    }
   ],
   "source": [
    "from dotenv import load_dotenv\n",
    "import os\n",
    "import pandas as pd\n",
    "import matplotlib.pyplot as plt\n",
    "\n",
    "from eth_rpc import PrivateKeyWallet\n",
    "from emp_orderly.utils import from_address\n",
    "from emp_orderly import (\n",
    "    Strategy, EmpOrderly,\n",
    "    crossover, plot_heatmaps,\n",
    "    EMA, SMA, SLOPE, CHOP,\n",
    "    EmpyrealOrderlySDK,\n",
    ")\n",
    "from emp_orderly.onboarding.faucet import request_testnet_funds as faucet\n",
    "from emp_orderly.onboarding import deposit\n",
    "from emp_orderly_types import PerpetualAssetType, Interval, OrderType\n",
    "\n",
    "load_dotenv()"
   ]
  },
  {
   "cell_type": "code",
   "execution_count": 10,
   "id": "f79fa4a0-e27c-41e7-8630-058c65a9ad10",
   "metadata": {},
   "outputs": [],
   "source": [
    "wallet = PrivateKeyWallet(private_key=os.getenv(\"PRIVATE_KEY\"))\n",
    "orderly_id = from_address(wallet.address)\n",
    "\n",
    "sdk = EmpyrealOrderlySDK(pvt_hex=wallet.private_key, account_id=orderly_id, is_testnet=True)"
   ]
  },
  {
   "cell_type": "code",
   "execution_count": 11,
   "id": "edcc69cc",
   "metadata": {},
   "outputs": [
    {
     "name": "stdout",
     "output_type": "stream",
     "text": [
      "0xd3E45819C43e582C7Ecfe2e7BFcD2544a7e53e4c\n"
     ]
    }
   ],
   "source": [
    "print(wallet.address)"
   ]
  },
  {
   "cell_type": "code",
   "execution_count": 12,
   "id": "808e074c",
   "metadata": {},
   "outputs": [
    {
     "data": {
      "text/plain": [
       "True"
      ]
     },
     "execution_count": 12,
     "metadata": {},
     "output_type": "execute_result"
    }
   ],
   "source": [
    "await faucet(wallet)"
   ]
  },
  {
   "cell_type": "code",
   "execution_count": 13,
   "id": "e0c43f12",
   "metadata": {},
   "outputs": [
    {
     "data": {
      "text/plain": [
       "'0xb09abcf936f0fab414d7f81755f2e1191796b167424187bb4ba07f9c9e8e8bcd'"
      ]
     },
     "execution_count": 13,
     "metadata": {},
     "output_type": "execute_result"
    }
   ],
   "source": [
    "await deposit(wallet)"
   ]
  },
  {
   "cell_type": "code",
   "execution_count": 14,
   "id": "3cbca89b",
   "metadata": {},
   "outputs": [
    {
     "name": "stdout",
     "output_type": "stream",
     "text": [
      "109956765500000000\n"
     ]
    }
   ],
   "source": [
    "print(await wallet.balance())"
   ]
  },
  {
   "cell_type": "code",
   "execution_count": 16,
   "id": "c83772b1-7242-42f9-88c5-e85a99dd1065",
   "metadata": {},
   "outputs": [
    {
     "data": {
      "text/plain": [
       "Start                     2024-09-16 17:15:00\n",
       "End                       2024-09-21 09:15:00\n",
       "Duration                      4 days 16:00:00\n",
       "Exposure Time [%]                         0.0\n",
       "Equity Final [$]                       1000.0\n",
       "Equity Peak [$]                        1000.0\n",
       "Return [%]                                0.0\n",
       "Buy & Hold Return [%]               24.308715\n",
       "Return (Ann.) [%]                         0.0\n",
       "Volatility (Ann.) [%]                     0.0\n",
       "Sharpe Ratio                              NaN\n",
       "Sortino Ratio                             NaN\n",
       "Calmar Ratio                              NaN\n",
       "Max. Drawdown [%]                        -0.0\n",
       "Avg. Drawdown [%]                         NaN\n",
       "Max. Drawdown Duration                    NaN\n",
       "Avg. Drawdown Duration                    NaN\n",
       "# Trades                                    0\n",
       "Win Rate [%]                              NaN\n",
       "Best Trade [%]                            NaN\n",
       "Worst Trade [%]                           NaN\n",
       "Avg. Trade [%]                            NaN\n",
       "Max. Trade Duration                       NaN\n",
       "Avg. Trade Duration                       NaN\n",
       "Profit Factor                             NaN\n",
       "Expectancy [%]                            NaN\n",
       "SQN                                       NaN\n",
       "Kelly Criterion                           NaN\n",
       "_strategy                                EMSB\n",
       "_equity_curve                             ...\n",
       "_trades                   Empty DataFrame\n",
       "...\n",
       "dtype: object"
      ]
     },
     "execution_count": 16,
     "metadata": {},
     "output_type": "execute_result"
    }
   ],
   "source": [
    "class EMSB(Strategy):\n",
    "    order_size: float = 0.5\n",
    "    nine_days_length: int = 9\n",
    "    fourteen_days_length: int = 14\n",
    "    length: int = 14\n",
    "    \n",
    "    @classmethod\n",
    "    def update_lags(cls, nine_days_length, fourteen_days_length, length):\n",
    "        cls.nine_days_length = nine_days_length\n",
    "        cls.fourteen_days_length = fourteen_days_length\n",
    "        cls.length = length\n",
    "\n",
    "    def init(self):\n",
    "        close = self.data.close\n",
    "        self.ema_nine_days = self.I(EMA, close, self.nine_days_length)\n",
    "        self.ema_fourteen_days = self.I(EMA, close, self.fourteen_days_length)\n",
    "        self.slope = self.I(SLOPE, close, self.length)\n",
    "\n",
    "    def next(self):\n",
    "        if (\n",
    "            crossover(self.ema_nine_days, self.ema_fourteen_days) &\n",
    "            (self.slope > 15)\n",
    "        ):\n",
    "            self.position.close()\n",
    "            self.buy(size=self.order_size)\n",
    "        elif (\n",
    "            crossover(self.ema_fourteen_days, self.ema_nine_days) &\n",
    "            (self.slope < -15)\n",
    "        ):\n",
    "            self.position.close()\n",
    "            self.sell(size=self.order_size)\n",
    "\n",
    "\n",
    "tester = EmpOrderly(\n",
    "    cash=1000,\n",
    "    commission=.0001,\n",
    "    exclusive_orders=True,\n",
    "    sdk=sdk,\n",
    ")\n",
    "\n",
    "# load strategy and data\n",
    "tester.set_strategy(EMSB)\n",
    "await tester.load_data(\n",
    "    lookback=14,\n",
    "    interval=Interval.five_minute,\n",
    "    asset=PerpetualAssetType.APT,\n",
    ")\n",
    "\n",
    "# backtest\n",
    "tester.backtest()"
   ]
  },
  {
   "cell_type": "code",
   "execution_count": null,
   "id": "7689380f",
   "metadata": {},
   "outputs": [],
   "source": [
    "# plot\n",
    "tester.plot(show_price_data=False)\n",
    "plt.show()"
   ]
  }
 ],
 "metadata": {
  "kernelspec": {
   "display_name": "Python 3 (ipykernel)",
   "language": "python",
   "name": "python3"
  },
  "language_info": {
   "codemirror_mode": {
    "name": "ipython",
    "version": 3
   },
   "file_extension": ".py",
   "mimetype": "text/x-python",
   "name": "python",
   "nbconvert_exporter": "python",
   "pygments_lexer": "ipython3",
   "version": "3.12.1"
  }
 },
 "nbformat": 4,
 "nbformat_minor": 5
}

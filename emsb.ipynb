{
 "cells": [
  {
   "cell_type": "code",
   "execution_count": null,
   "id": "88177fd2-bb7e-47bc-ad0d-ff5264f0d70a",
   "metadata": {},
   "outputs": [],
   "source": [
    "from dotenv import load_dotenv\n",
    "import pandas as pd\n",
    "import matplotlib.pyplot as plt\n",
    "\n",
    "from eth_rpc import PrivateKeyWallet\n",
    "from emp_orderly.utils import from_address\n",
    "from emp_orderly import (\n",
    "    Strategy, EmpOrderly,\n",
    "    crossover, plot_heatmaps,\n",
    "    EMA, SMA, SLOPE, CHOP,\n",
    "    EmpyrealOrderlySDK,\n",
    ")\n",
    "from emp_orderly_types import PerpetualAssetType, Interval, OrderType\n",
    "\n",
    "load_dotenv()"
   ]
  },
  {
   "cell_type": "code",
   "execution_count": 2,
   "id": "f79fa4a0-e27c-41e7-8630-058c65a9ad10",
   "metadata": {},
   "outputs": [],
   "source": [
    "wallet = PrivateKeyWallet.create_new()\n",
    "orderly_id = from_address(wallet.address)\n",
    "\n",
    "sdk = EmpyrealOrderlySDK(pvt_hex=wallet.private_key, account_id=orderly_id, is_testnet=True)"
   ]
  },
  {
   "cell_type": "code",
   "execution_count": null,
   "id": "c83772b1-7242-42f9-88c5-e85a99dd1065",
   "metadata": {},
   "outputs": [],
   "source": [
    "class EMSB(Strategy):\n",
    "    order_size: float = 0.5\n",
    "    nine_days_length: int = 9\n",
    "    fourteen_days_length: int = 14\n",
    "    length: int = 14\n",
    "    \n",
    "    @classmethod\n",
    "    def update_lags(cls, nine_days_length, fourteen_days_length, length):\n",
    "        cls.nine_days_length = nine_days_length\n",
    "        cls.fourteen_days_length = fourteen_days_length\n",
    "        cls.length = length\n",
    "\n",
    "    def init(self):\n",
    "        close = self.data.close\n",
    "        self.ema_nine_days = self.I(EMA, close, self.nine_days_length)\n",
    "        self.ema_fourteen_days = self.I(EMA, close, self.fourteen_days_length)\n",
    "        self.slope = self.I(SLOPE, close, self.length)\n",
    "\n",
    "    def next(self):\n",
    "        if (\n",
    "            crossover(self.ema_nine_days, self.ema_fourteen_days) &\n",
    "            (self.slope > 15)\n",
    "        ):\n",
    "            self.position.close()\n",
    "            self.buy(size=self.order_size)\n",
    "        elif (\n",
    "            crossover(self.ema_fourteen_days, self.ema_nine_days) &\n",
    "            (self.slope < -15)\n",
    "        ):\n",
    "            self.position.close()\n",
    "            self.sell(size=self.order_size)\n",
    "\n",
    "\n",
    "tester = EmpOrderly(\n",
    "    cash=1000,\n",
    "    commission=.0001,\n",
    "    exclusive_orders=True,\n",
    "    sdk=sdk,\n",
    ")\n",
    "\n",
    "# load strategy and data\n",
    "tester.set_strategy(SmaCross)\n",
    "await tester.load_data(\n",
    "    lookback=5,\n",
    "    interval=Interval.five_minute,\n",
    "    asset=PerpetualAssetType.BTC,\n",
    ")\n",
    "\n",
    "# backtest\n",
    "tester.backtest()\n",
    "\n",
    "# plot\n",
    "tester.plot(show_price_data=False)\n",
    "plt.show()"
   ]
  }
 ],
 "metadata": {
  "kernelspec": {
   "display_name": "Python 3 (ipykernel)",
   "language": "python",
   "name": "python3"
  },
  "language_info": {
   "codemirror_mode": {
    "name": "ipython",
    "version": 3
   },
   "file_extension": ".py",
   "mimetype": "text/x-python",
   "name": "python",
   "nbconvert_exporter": "python",
   "pygments_lexer": "ipython3",
   "version": "3.12.1"
  }
 },
 "nbformat": 4,
 "nbformat_minor": 5
}

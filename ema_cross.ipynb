{
 "cells": [
  {
   "cell_type": "code",
   "execution_count": 20,
   "id": "88177fd2-bb7e-47bc-ad0d-ff5264f0d70a",
   "metadata": {},
   "outputs": [
    {
     "data": {
      "text/plain": [
       "True"
      ]
     },
     "execution_count": 20,
     "metadata": {},
     "output_type": "execute_result"
    }
   ],
   "source": [
    "from dotenv import load_dotenv\n",
    "import os\n",
    "import pandas as pd\n",
    "import matplotlib.pyplot as plt\n",
    "\n",
    "from eth_rpc import PrivateKeyWallet\n",
    "from emp_orderly.utils import from_address\n",
    "from emp_orderly import (\n",
    "    Strategy, EmpOrderly,\n",
    "    crossover, plot_heatmaps,\n",
    "    EMA, SMA, SLOPE, CHOP,\n",
    "    EmpyrealOrderlySDK,\n",
    ")\n",
    "from emp_orderly.onboarding.faucet import request_testnet_funds as faucet\n",
    "from emp_orderly.onboarding import deposit\n",
    "from emp_orderly_types import PerpetualAssetType, Interval\n",
    "\n",
    "load_dotenv()"
   ]
  },
  {
   "cell_type": "code",
   "execution_count": 21,
   "id": "f79fa4a0-e27c-41e7-8630-058c65a9ad10",
   "metadata": {},
   "outputs": [],
   "source": [
    "wallet = PrivateKeyWallet.create_new()\n",
    "orderly_id = from_address(wallet.address)\n",
    "\n",
    "sdk = EmpyrealOrderlySDK(pvt_hex=wallet.private_key, account_id=orderly_id, is_testnet=True)"
   ]
  },
  {
   "cell_type": "code",
   "execution_count": 22,
   "id": "edcc69cc",
   "metadata": {},
   "outputs": [
    {
     "name": "stdout",
     "output_type": "stream",
     "text": [
      "0x031b39712C0735475a752ad73ca1d91c84DDE92C\n"
     ]
    }
   ],
   "source": [
    "print(wallet.address)"
   ]
  },
  {
   "cell_type": "code",
   "execution_count": 23,
   "id": "3cbca89b",
   "metadata": {},
   "outputs": [
    {
     "name": "stdout",
     "output_type": "stream",
     "text": [
      "0\n"
     ]
    }
   ],
   "source": [
    "print(await wallet.balance())"
   ]
  },
  {
   "cell_type": "code",
   "execution_count": 24,
   "id": "c83772b1-7242-42f9-88c5-e85a99dd1065",
   "metadata": {},
   "outputs": [
    {
     "data": {
      "text/plain": [
       "Start                     2024-09-25 02:15:00\n",
       "End                       2024-10-02 01:05:00\n",
       "Duration                      6 days 22:50:00\n",
       "Exposure Time [%]                   82.975537\n",
       "Equity Final [$]               1384874.466398\n",
       "Equity Peak [$]                1441084.181271\n",
       "Return [%]                          38.487447\n",
       "Buy & Hold Return [%]                3.223338\n",
       "Return (Ann.) [%]            283041236.914447\n",
       "Volatility (Ann.) [%]        547115731.102736\n",
       "Sharpe Ratio                         0.517333\n",
       "Sortino Ratio                 40979381.143414\n",
       "Calmar Ratio                  54437058.882588\n",
       "Max. Drawdown [%]                   -5.199422\n",
       "Avg. Drawdown [%]                   -1.329384\n",
       "Max. Drawdown Duration        1 days 18:55:00\n",
       "Avg. Drawdown Duration        0 days 04:33:00\n",
       "# Trades                                   49\n",
       "Win Rate [%]                        34.693878\n",
       "Best Trade [%]                      17.232464\n",
       "Worst Trade [%]                      -1.07677\n",
       "Avg. Trade [%]                       0.667353\n",
       "Max. Trade Duration           1 days 04:55:00\n",
       "Avg. Trade Duration           0 days 02:50:00\n",
       "Profit Factor                        3.439809\n",
       "Expectancy [%]                        0.70651\n",
       "SQN                                  1.709724\n",
       "Kelly Criterion                      0.236883\n",
       "_strategy                            EmaCross\n",
       "_equity_curve                             ...\n",
       "_trades                           Size  En...\n",
       "dtype: object"
      ]
     },
     "execution_count": 24,
     "metadata": {},
     "output_type": "execute_result"
    }
   ],
   "source": [
    "class EmaCross(Strategy):\n",
    "    \"\"\"Exponential Moving Average Death/Golden Cross Strategy.\n",
    "    \n",
    "    order_size: The amount of order that can be \n",
    "        made at a time.\n",
    "    days_length_1: 12 days length for \n",
    "        calculating 12 days EMA.\n",
    "    days_length_2: 26 days length for \n",
    "        calculating 26 days EMA.\n",
    "    length: The number of days the Strategy is \n",
    "        intended to run for.\n",
    "    \"\"\"\n",
    "\n",
    "    order_size: float = 0.999\n",
    "    days_length_1: int = 12\n",
    "    days_length_2: int = 26\n",
    "    \n",
    "    @classmethod\n",
    "    def update_lags(cls, days_length_1, days_length_2):\n",
    "        cls.days_length_1 = days_length_1\n",
    "        cls.days_length_2 = days_length_2\n",
    "\n",
    "    def init(self):\n",
    "        close = self.data.close\n",
    "        self.ema_days_1 = self.I(EMA, close, self.days_length_1)\n",
    "        self.ema_days_2 = self.I(EMA, close, self.days_length_2)\n",
    "\n",
    "    def next(self):\n",
    "        if (\n",
    "            crossover(self.ema_days_1, self.ema_days_2)\n",
    "        ):\n",
    "            self.position.close()\n",
    "            self.buy(size=self.order_size)\n",
    "        elif (\n",
    "            crossover(self.ema_days_2, self.ema_days_1)\n",
    "        ):\n",
    "            self.position.close()\n",
    "            self.sell(size=self.order_size)\n",
    "\n",
    "\n",
    "tester = EmpOrderly(\n",
    "    cash=1000000,\n",
    "    commission=.0000001,\n",
    "    exclusive_orders=True,\n",
    "    sdk=sdk,\n",
    ")\n",
    "\n",
    "# load strategy and data\n",
    "tester.set_strategy(EmaCross)\n",
    "await tester.load_data(\n",
    "    lookback=14,\n",
    "    interval=Interval.five_minute,\n",
    "    asset=PerpetualAssetType.DOGE,\n",
    ")\n",
    "\n",
    "# backtest\n",
    "tester.backtest()"
   ]
  },
  {
   "cell_type": "code",
   "execution_count": 25,
   "id": "7689380f",
   "metadata": {},
   "outputs": [],
   "source": [
    "# plot\n",
    "tester.plot(show_price_data=False)\n",
    "plt.show()"
   ]
  }
 ],
 "metadata": {
  "kernelspec": {
   "display_name": "Python 3 (ipykernel)",
   "language": "python",
   "name": "python3"
  },
  "language_info": {
   "codemirror_mode": {
    "name": "ipython",
    "version": 3
   },
   "file_extension": ".py",
   "mimetype": "text/x-python",
   "name": "python",
   "nbconvert_exporter": "python",
   "pygments_lexer": "ipython3",
   "version": "3.12.1"
  }
 },
 "nbformat": 4,
 "nbformat_minor": 5
}

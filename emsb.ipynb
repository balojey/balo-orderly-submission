{
 "cells": [
  {
   "cell_type": "code",
   "execution_count": 2,
   "id": "88177fd2-bb7e-47bc-ad0d-ff5264f0d70a",
   "metadata": {},
   "outputs": [
    {
     "name": "stderr",
     "output_type": "stream",
     "text": [
      "/home/ademola/.cache/pypoetry/virtualenvs/balo-orderly-submission-oa8W0BMU-py3.12/lib/python3.12/site-packages/tqdm/auto.py:21: TqdmWarning: IProgress not found. Please update jupyter and ipywidgets. See https://ipywidgets.readthedocs.io/en/stable/user_install.html\n",
      "  from .autonotebook import tqdm as notebook_tqdm\n"
     ]
    },
    {
     "data": {
      "text/plain": [
       "True"
      ]
     },
     "execution_count": 2,
     "metadata": {},
     "output_type": "execute_result"
    }
   ],
   "source": [
    "from dotenv import load_dotenv\n",
    "import os\n",
    "import pandas as pd\n",
    "import matplotlib.pyplot as plt\n",
    "\n",
    "from eth_rpc import PrivateKeyWallet\n",
    "from emp_orderly.utils import from_address\n",
    "from emp_orderly import (\n",
    "    Strategy, EmpOrderly,\n",
    "    crossover, plot_heatmaps,\n",
    "    EMA, SMA, SLOPE, CHOP,\n",
    "    EmpyrealOrderlySDK,\n",
    ")\n",
    "from emp_orderly.onboarding.faucet import request_testnet_funds as faucet\n",
    "from emp_orderly.onboarding import deposit\n",
    "from emp_orderly_types import PerpetualAssetType, Interval, OrderType\n",
    "\n",
    "load_dotenv()"
   ]
  },
  {
   "cell_type": "code",
   "execution_count": 3,
   "id": "f79fa4a0-e27c-41e7-8630-058c65a9ad10",
   "metadata": {},
   "outputs": [],
   "source": [
    "wallet = PrivateKeyWallet.create_new()\n",
    "orderly_id = from_address(wallet.address)\n",
    "\n",
    "sdk = EmpyrealOrderlySDK(pvt_hex=wallet.private_key, account_id=orderly_id, is_testnet=True)"
   ]
  },
  {
   "cell_type": "code",
   "execution_count": 4,
   "id": "edcc69cc",
   "metadata": {},
   "outputs": [
    {
     "name": "stdout",
     "output_type": "stream",
     "text": [
      "0x42BbA81d923e48bF53C19d113c21e6b565084709\n"
     ]
    }
   ],
   "source": [
    "print(wallet.address)"
   ]
  },
  {
   "cell_type": "code",
   "execution_count": 5,
   "id": "3cbca89b",
   "metadata": {},
   "outputs": [
    {
     "name": "stdout",
     "output_type": "stream",
     "text": [
      "0\n"
     ]
    }
   ],
   "source": [
    "print(await wallet.balance())"
   ]
  },
  {
   "cell_type": "code",
   "execution_count": 6,
   "id": "c83772b1-7242-42f9-88c5-e85a99dd1065",
   "metadata": {},
   "outputs": [
    {
     "name": "stdout",
     "output_type": "stream",
     "text": [
      "AKGQXLI45FFBANSEDKWN vGc5bE8PQ3nphKpRSg9XaIaw5C4KbHjKEsoFB3PC\n"
     ]
    },
    {
     "name": "stderr",
     "output_type": "stream",
     "text": [
      "/home/ademola/.cache/pypoetry/virtualenvs/balo-orderly-submission-oa8W0BMU-py3.12/lib/python3.12/site-packages/emp_orderly/backtest/backtesting.py:1175: UserWarning: Some prices are larger than initial cash value. Note that fractional trading is not supported. If you want to trade Bitcoin, increase initial cash, or trade μBTC or satoshis instead (GH-134).\n",
      "  self._init_data(self._history)\n"
     ]
    },
    {
     "name": "stdout",
     "output_type": "stream",
     "text": [
      "[\"Pay Taxes With Bitcoin? Ohio Senator Proposes Bill For Crypto Tax Payments, But There's A Catch\", \"Bitcoin, Ethereum, Dogecoin Close September With A Down Day: 'Nothing Goes Up Forever, Now Market Looks Much Healthier,' Says Trader\", \"Edward Snowden Cautions Crypto Industry Not To Dilute Principles: 'We Should Defy Bureaucracy'\", 'Bitcoin Down More Than 3% Within 24 hours', \"Bitcoin Miner CleanSpark Bets Big On Bull Market: 'We Could See Bitcoin Peak Just Under $200K,' Says CEO\", \"Bitcoin Price Is An 'Opportunity,' Technical Analyst Tells Benzinga: Watch These Indicators For Signs Of A Price Surge\", \"Whale Trader Recaps $7M Profit In September, Predicts Bitcoin To Hit $100K-$200K: 'Leg 2 Is Beginning, Time To Lock In'\", \"Bitcoin Back Below $64K: Watch This 'Line In The Sand' For Directional Bias, Says Veteran Trader\", 'FOMO Drives Biggest Gain In Shanghai Since 2008, Chinese Market Breaks The Negative Pattern', \"Bitcoin Up 8% In September: What Traders And Analysts Expect For 'Best-Performing' Q4\"]\n",
      "[\"Pay Taxes With Bitcoin? Ohio Senator Proposes Bill For Crypto Tax Payments, But There's A Catch\", \"Bitcoin, Ethereum, Dogecoin Close September With A Down Day: 'Nothing Goes Up Forever, Now Market Looks Much Healthier,' Says Trader\", \"Edward Snowden Cautions Crypto Industry Not To Dilute Principles: 'We Should Defy Bureaucracy'\", 'Bitcoin Down More Than 3% Within 24 hours', \"Bitcoin Miner CleanSpark Bets Big On Bull Market: 'We Could See Bitcoin Peak Just Under $200K,' Says CEO\", \"Bitcoin Price Is An 'Opportunity,' Technical Analyst Tells Benzinga: Watch These Indicators For Signs Of A Price Surge\", \"Whale Trader Recaps $7M Profit In September, Predicts Bitcoin To Hit $100K-$200K: 'Leg 2 Is Beginning, Time To Lock In'\", \"Bitcoin Back Below $64K: Watch This 'Line In The Sand' For Directional Bias, Says Veteran Trader\", 'FOMO Drives Biggest Gain In Shanghai Since 2008, Chinese Market Breaks The Negative Pattern', \"Bitcoin Up 8% In September: What Traders And Analysts Expect For 'Best-Performing' Q4\"]\n",
      "[\"Pay Taxes With Bitcoin? Ohio Senator Proposes Bill For Crypto Tax Payments, But There's A Catch\", \"Bitcoin, Ethereum, Dogecoin Close September With A Down Day: 'Nothing Goes Up Forever, Now Market Looks Much Healthier,' Says Trader\", \"Edward Snowden Cautions Crypto Industry Not To Dilute Principles: 'We Should Defy Bureaucracy'\", 'Bitcoin Down More Than 3% Within 24 hours', \"Bitcoin Miner CleanSpark Bets Big On Bull Market: 'We Could See Bitcoin Peak Just Under $200K,' Says CEO\", \"Bitcoin Price Is An 'Opportunity,' Technical Analyst Tells Benzinga: Watch These Indicators For Signs Of A Price Surge\", \"Whale Trader Recaps $7M Profit In September, Predicts Bitcoin To Hit $100K-$200K: 'Leg 2 Is Beginning, Time To Lock In'\", \"Bitcoin Back Below $64K: Watch This 'Line In The Sand' For Directional Bias, Says Veteran Trader\", 'FOMO Drives Biggest Gain In Shanghai Since 2008, Chinese Market Breaks The Negative Pattern', \"Bitcoin Up 8% In September: What Traders And Analysts Expect For 'Best-Performing' Q4\"]\n",
      "[\"Pay Taxes With Bitcoin? Ohio Senator Proposes Bill For Crypto Tax Payments, But There's A Catch\", \"Bitcoin, Ethereum, Dogecoin Close September With A Down Day: 'Nothing Goes Up Forever, Now Market Looks Much Healthier,' Says Trader\", \"Edward Snowden Cautions Crypto Industry Not To Dilute Principles: 'We Should Defy Bureaucracy'\", 'Bitcoin Down More Than 3% Within 24 hours', \"Bitcoin Miner CleanSpark Bets Big On Bull Market: 'We Could See Bitcoin Peak Just Under $200K,' Says CEO\", \"Bitcoin Price Is An 'Opportunity,' Technical Analyst Tells Benzinga: Watch These Indicators For Signs Of A Price Surge\", \"Whale Trader Recaps $7M Profit In September, Predicts Bitcoin To Hit $100K-$200K: 'Leg 2 Is Beginning, Time To Lock In'\", \"Bitcoin Back Below $64K: Watch This 'Line In The Sand' For Directional Bias, Says Veteran Trader\", 'FOMO Drives Biggest Gain In Shanghai Since 2008, Chinese Market Breaks The Negative Pattern', \"Bitcoin Up 8% In September: What Traders And Analysts Expect For 'Best-Performing' Q4\"]\n",
      "[\"Pay Taxes With Bitcoin? Ohio Senator Proposes Bill For Crypto Tax Payments, But There's A Catch\", \"Bitcoin, Ethereum, Dogecoin Close September With A Down Day: 'Nothing Goes Up Forever, Now Market Looks Much Healthier,' Says Trader\", \"Edward Snowden Cautions Crypto Industry Not To Dilute Principles: 'We Should Defy Bureaucracy'\", 'Bitcoin Down More Than 3% Within 24 hours', \"Bitcoin Miner CleanSpark Bets Big On Bull Market: 'We Could See Bitcoin Peak Just Under $200K,' Says CEO\", \"Bitcoin Price Is An 'Opportunity,' Technical Analyst Tells Benzinga: Watch These Indicators For Signs Of A Price Surge\", \"Whale Trader Recaps $7M Profit In September, Predicts Bitcoin To Hit $100K-$200K: 'Leg 2 Is Beginning, Time To Lock In'\", \"Bitcoin Back Below $64K: Watch This 'Line In The Sand' For Directional Bias, Says Veteran Trader\", 'FOMO Drives Biggest Gain In Shanghai Since 2008, Chinese Market Breaks The Negative Pattern', \"Bitcoin Up 8% In September: What Traders And Analysts Expect For 'Best-Performing' Q4\"]\n",
      "[\"Pay Taxes With Bitcoin? Ohio Senator Proposes Bill For Crypto Tax Payments, But There's A Catch\", \"Bitcoin, Ethereum, Dogecoin Close September With A Down Day: 'Nothing Goes Up Forever, Now Market Looks Much Healthier,' Says Trader\", \"Edward Snowden Cautions Crypto Industry Not To Dilute Principles: 'We Should Defy Bureaucracy'\", 'Bitcoin Down More Than 3% Within 24 hours', \"Bitcoin Miner CleanSpark Bets Big On Bull Market: 'We Could See Bitcoin Peak Just Under $200K,' Says CEO\", \"Bitcoin Price Is An 'Opportunity,' Technical Analyst Tells Benzinga: Watch These Indicators For Signs Of A Price Surge\", \"Whale Trader Recaps $7M Profit In September, Predicts Bitcoin To Hit $100K-$200K: 'Leg 2 Is Beginning, Time To Lock In'\", \"Bitcoin Back Below $64K: Watch This 'Line In The Sand' For Directional Bias, Says Veteran Trader\", 'FOMO Drives Biggest Gain In Shanghai Since 2008, Chinese Market Breaks The Negative Pattern', \"Bitcoin Up 8% In September: What Traders And Analysts Expect For 'Best-Performing' Q4\"]\n",
      "[\"Pay Taxes With Bitcoin? Ohio Senator Proposes Bill For Crypto Tax Payments, But There's A Catch\", \"Bitcoin, Ethereum, Dogecoin Close September With A Down Day: 'Nothing Goes Up Forever, Now Market Looks Much Healthier,' Says Trader\", \"Edward Snowden Cautions Crypto Industry Not To Dilute Principles: 'We Should Defy Bureaucracy'\", 'Bitcoin Down More Than 3% Within 24 hours', \"Bitcoin Miner CleanSpark Bets Big On Bull Market: 'We Could See Bitcoin Peak Just Under $200K,' Says CEO\", \"Bitcoin Price Is An 'Opportunity,' Technical Analyst Tells Benzinga: Watch These Indicators For Signs Of A Price Surge\", \"Whale Trader Recaps $7M Profit In September, Predicts Bitcoin To Hit $100K-$200K: 'Leg 2 Is Beginning, Time To Lock In'\", \"Bitcoin Back Below $64K: Watch This 'Line In The Sand' For Directional Bias, Says Veteran Trader\", 'FOMO Drives Biggest Gain In Shanghai Since 2008, Chinese Market Breaks The Negative Pattern', \"Bitcoin Up 8% In September: What Traders And Analysts Expect For 'Best-Performing' Q4\"]\n",
      "[\"Pay Taxes With Bitcoin? Ohio Senator Proposes Bill For Crypto Tax Payments, But There's A Catch\", \"Bitcoin, Ethereum, Dogecoin Close September With A Down Day: 'Nothing Goes Up Forever, Now Market Looks Much Healthier,' Says Trader\", \"Edward Snowden Cautions Crypto Industry Not To Dilute Principles: 'We Should Defy Bureaucracy'\", 'Bitcoin Down More Than 3% Within 24 hours', \"Bitcoin Miner CleanSpark Bets Big On Bull Market: 'We Could See Bitcoin Peak Just Under $200K,' Says CEO\", \"Bitcoin Price Is An 'Opportunity,' Technical Analyst Tells Benzinga: Watch These Indicators For Signs Of A Price Surge\", \"Whale Trader Recaps $7M Profit In September, Predicts Bitcoin To Hit $100K-$200K: 'Leg 2 Is Beginning, Time To Lock In'\", \"Bitcoin Back Below $64K: Watch This 'Line In The Sand' For Directional Bias, Says Veteran Trader\", 'FOMO Drives Biggest Gain In Shanghai Since 2008, Chinese Market Breaks The Negative Pattern', \"Bitcoin Up 8% In September: What Traders And Analysts Expect For 'Best-Performing' Q4\"]\n",
      "[\"Pay Taxes With Bitcoin? Ohio Senator Proposes Bill For Crypto Tax Payments, But There's A Catch\", \"Bitcoin, Ethereum, Dogecoin Close September With A Down Day: 'Nothing Goes Up Forever, Now Market Looks Much Healthier,' Says Trader\", \"Edward Snowden Cautions Crypto Industry Not To Dilute Principles: 'We Should Defy Bureaucracy'\", 'Bitcoin Down More Than 3% Within 24 hours', \"Bitcoin Miner CleanSpark Bets Big On Bull Market: 'We Could See Bitcoin Peak Just Under $200K,' Says CEO\", \"Bitcoin Price Is An 'Opportunity,' Technical Analyst Tells Benzinga: Watch These Indicators For Signs Of A Price Surge\", \"Whale Trader Recaps $7M Profit In September, Predicts Bitcoin To Hit $100K-$200K: 'Leg 2 Is Beginning, Time To Lock In'\", \"Bitcoin Back Below $64K: Watch This 'Line In The Sand' For Directional Bias, Says Veteran Trader\", 'FOMO Drives Biggest Gain In Shanghai Since 2008, Chinese Market Breaks The Negative Pattern', \"Bitcoin Up 8% In September: What Traders And Analysts Expect For 'Best-Performing' Q4\"]\n",
      "[\"Pay Taxes With Bitcoin? Ohio Senator Proposes Bill For Crypto Tax Payments, But There's A Catch\", \"Bitcoin, Ethereum, Dogecoin Close September With A Down Day: 'Nothing Goes Up Forever, Now Market Looks Much Healthier,' Says Trader\", \"Edward Snowden Cautions Crypto Industry Not To Dilute Principles: 'We Should Defy Bureaucracy'\", 'Bitcoin Down More Than 3% Within 24 hours', \"Bitcoin Miner CleanSpark Bets Big On Bull Market: 'We Could See Bitcoin Peak Just Under $200K,' Says CEO\", \"Bitcoin Price Is An 'Opportunity,' Technical Analyst Tells Benzinga: Watch These Indicators For Signs Of A Price Surge\", \"Whale Trader Recaps $7M Profit In September, Predicts Bitcoin To Hit $100K-$200K: 'Leg 2 Is Beginning, Time To Lock In'\", \"Bitcoin Back Below $64K: Watch This 'Line In The Sand' For Directional Bias, Says Veteran Trader\", 'FOMO Drives Biggest Gain In Shanghai Since 2008, Chinese Market Breaks The Negative Pattern', \"Bitcoin Up 8% In September: What Traders And Analysts Expect For 'Best-Performing' Q4\"]\n",
      "[\"Pay Taxes With Bitcoin? Ohio Senator Proposes Bill For Crypto Tax Payments, But There's A Catch\", \"Bitcoin, Ethereum, Dogecoin Close September With A Down Day: 'Nothing Goes Up Forever, Now Market Looks Much Healthier,' Says Trader\", \"Edward Snowden Cautions Crypto Industry Not To Dilute Principles: 'We Should Defy Bureaucracy'\", 'Bitcoin Down More Than 3% Within 24 hours', \"Bitcoin Miner CleanSpark Bets Big On Bull Market: 'We Could See Bitcoin Peak Just Under $200K,' Says CEO\", \"Bitcoin Price Is An 'Opportunity,' Technical Analyst Tells Benzinga: Watch These Indicators For Signs Of A Price Surge\", \"Whale Trader Recaps $7M Profit In September, Predicts Bitcoin To Hit $100K-$200K: 'Leg 2 Is Beginning, Time To Lock In'\", \"Bitcoin Back Below $64K: Watch This 'Line In The Sand' For Directional Bias, Says Veteran Trader\", 'FOMO Drives Biggest Gain In Shanghai Since 2008, Chinese Market Breaks The Negative Pattern', \"Bitcoin Up 8% In September: What Traders And Analysts Expect For 'Best-Performing' Q4\"]\n",
      "[\"Pay Taxes With Bitcoin? Ohio Senator Proposes Bill For Crypto Tax Payments, But There's A Catch\", \"Bitcoin, Ethereum, Dogecoin Close September With A Down Day: 'Nothing Goes Up Forever, Now Market Looks Much Healthier,' Says Trader\", \"Edward Snowden Cautions Crypto Industry Not To Dilute Principles: 'We Should Defy Bureaucracy'\", 'Bitcoin Down More Than 3% Within 24 hours', \"Bitcoin Miner CleanSpark Bets Big On Bull Market: 'We Could See Bitcoin Peak Just Under $200K,' Says CEO\", \"Bitcoin Price Is An 'Opportunity,' Technical Analyst Tells Benzinga: Watch These Indicators For Signs Of A Price Surge\", \"Whale Trader Recaps $7M Profit In September, Predicts Bitcoin To Hit $100K-$200K: 'Leg 2 Is Beginning, Time To Lock In'\", \"Bitcoin Back Below $64K: Watch This 'Line In The Sand' For Directional Bias, Says Veteran Trader\", 'FOMO Drives Biggest Gain In Shanghai Since 2008, Chinese Market Breaks The Negative Pattern', \"Bitcoin Up 8% In September: What Traders And Analysts Expect For 'Best-Performing' Q4\"]\n",
      "[\"Pay Taxes With Bitcoin? Ohio Senator Proposes Bill For Crypto Tax Payments, But There's A Catch\", \"Bitcoin, Ethereum, Dogecoin Close September With A Down Day: 'Nothing Goes Up Forever, Now Market Looks Much Healthier,' Says Trader\", \"Edward Snowden Cautions Crypto Industry Not To Dilute Principles: 'We Should Defy Bureaucracy'\", 'Bitcoin Down More Than 3% Within 24 hours', \"Bitcoin Miner CleanSpark Bets Big On Bull Market: 'We Could See Bitcoin Peak Just Under $200K,' Says CEO\", \"Bitcoin Price Is An 'Opportunity,' Technical Analyst Tells Benzinga: Watch These Indicators For Signs Of A Price Surge\", \"Whale Trader Recaps $7M Profit In September, Predicts Bitcoin To Hit $100K-$200K: 'Leg 2 Is Beginning, Time To Lock In'\", \"Bitcoin Back Below $64K: Watch This 'Line In The Sand' For Directional Bias, Says Veteran Trader\", 'FOMO Drives Biggest Gain In Shanghai Since 2008, Chinese Market Breaks The Negative Pattern', \"Bitcoin Up 8% In September: What Traders And Analysts Expect For 'Best-Performing' Q4\"]\n",
      "[\"Pay Taxes With Bitcoin? Ohio Senator Proposes Bill For Crypto Tax Payments, But There's A Catch\", \"Bitcoin, Ethereum, Dogecoin Close September With A Down Day: 'Nothing Goes Up Forever, Now Market Looks Much Healthier,' Says Trader\", \"Edward Snowden Cautions Crypto Industry Not To Dilute Principles: 'We Should Defy Bureaucracy'\", 'Bitcoin Down More Than 3% Within 24 hours', \"Bitcoin Miner CleanSpark Bets Big On Bull Market: 'We Could See Bitcoin Peak Just Under $200K,' Says CEO\", \"Bitcoin Price Is An 'Opportunity,' Technical Analyst Tells Benzinga: Watch These Indicators For Signs Of A Price Surge\", \"Whale Trader Recaps $7M Profit In September, Predicts Bitcoin To Hit $100K-$200K: 'Leg 2 Is Beginning, Time To Lock In'\", \"Bitcoin Back Below $64K: Watch This 'Line In The Sand' For Directional Bias, Says Veteran Trader\", 'FOMO Drives Biggest Gain In Shanghai Since 2008, Chinese Market Breaks The Negative Pattern', \"Bitcoin Up 8% In September: What Traders And Analysts Expect For 'Best-Performing' Q4\"]\n"
     ]
    }
   ],
   "source": [
    "from alpaca_trade_api import REST\n",
    "from datetime import timedelta, datetime\n",
    "\n",
    "ALPACA_API_KEY = os.getenv('ALPACA_API_KEY')\n",
    "ALPACA_API_SECRET = os.getenv('ALPACA_API_SECRET')\n",
    "BASE_URL = \"https://api.alpaca.markets\"\n",
    "print(ALPACA_API_KEY, ALPACA_API_SECRET)\n",
    "\n",
    "ALPACA_CREDS = {\n",
    "    \"API_KEY\":ALPACA_API_KEY, \n",
    "    \"API_SECRET\": ALPACA_API_SECRET, \n",
    "    \"PAPER\": True\n",
    "}\n",
    "\n",
    "class EMSB(Strategy):\n",
    "    \"\"\"EMA Momentum and Slope Breakout Strategy.\n",
    "    \n",
    "    order_size: The amount of order that can be \n",
    "        made at a time.\n",
    "    days_length_1: 12 days length for \n",
    "        calculating 12 days EMA.\n",
    "    days_length_2: 26 days length for \n",
    "        calculating 26 days EMA.\n",
    "    length: The number of days the Strategy is \n",
    "        intended to run for.\n",
    "    \"\"\"\n",
    "\n",
    "    order_size: float = 0.5\n",
    "    days_length_1: int = 12\n",
    "    days_length_2: int = 26\n",
    "    length: int = 14\n",
    "    symbol: str = \"BTC/USD\"\n",
    "    \n",
    "    @classmethod\n",
    "    def update_lags(cls, days_length_1, days_length_2, length):\n",
    "        cls.days_length_1 = days_length_1\n",
    "        cls.days_length_2 = days_length_2\n",
    "        cls.length = length\n",
    "\n",
    "    def get_dates(self): \n",
    "        today = datetime.today()\n",
    "        three_days_prior = today - timedelta(days=14)\n",
    "        return today.strftime('%Y-%m-%d'), three_days_prior.strftime('%Y-%m-%d')\n",
    "\n",
    "    def get_news(self):\n",
    "        today, three_days_prior = self.get_dates()\n",
    "        news = self.api.get_news(symbol=self.symbol,\n",
    "                                 start=three_days_prior, \n",
    "                                 end=today)\n",
    "        news = [ev.__dict__[\"_raw\"][\"headline\"] for ev in news]\n",
    "        # probability, sentiment = estimate_sentiment(news)\n",
    "        # return probability, sentiment\n",
    "        return news\n",
    "\n",
    "    def init(self):\n",
    "        close = self.data.close\n",
    "        self.sma_days_1 = self.I(EMA, close, self.days_length_1)\n",
    "        self.sma_days_2 = self.I(EMA, close, self.days_length_2)\n",
    "        self.api = REST(base_url=BASE_URL, key_id=ALPACA_API_KEY, secret_key=ALPACA_API_SECRET)\n",
    "\n",
    "    def next(self):\n",
    "        news = self.get_news()\n",
    "        print(news)\n",
    "        if (\n",
    "            crossover(self.sma_days_1, self.sma_days_2)\n",
    "        ):\n",
    "            self.position.close()\n",
    "            self.buy(size=self.order_size)\n",
    "        elif (\n",
    "            crossover(self.sma_days_2, self.sma_days_1)\n",
    "        ):\n",
    "            self.position.close()\n",
    "            self.sell(size=self.order_size)\n",
    "\n",
    "\n",
    "tester = EmpOrderly(\n",
    "    cash=1000,\n",
    "    commission=.0001,\n",
    "    exclusive_orders=True,\n",
    "    sdk=sdk,\n",
    ")\n",
    "\n",
    "# load strategy and data\n",
    "tester.set_strategy(EMSB)\n",
    "await tester.load_data(\n",
    "    lookback=14,\n",
    "    interval=Interval.five_minute,\n",
    "    asset=PerpetualAssetType.BTC,\n",
    ")\n",
    "# print(tester._history[tester._history[\"volume\"] > 0])\n",
    "\n",
    "# backtest\n",
    "tester.backtest()"
   ]
  },
  {
   "cell_type": "code",
   "execution_count": 14,
   "id": "7689380f",
   "metadata": {},
   "outputs": [],
   "source": [
    "# # plot\n",
    "# tester.plot(show_price_data=False)\n",
    "# plt.show()"
   ]
  }
 ],
 "metadata": {
  "kernelspec": {
   "display_name": "Python 3 (ipykernel)",
   "language": "python",
   "name": "python3"
  },
  "language_info": {
   "codemirror_mode": {
    "name": "ipython",
    "version": 3
   },
   "file_extension": ".py",
   "mimetype": "text/x-python",
   "name": "python",
   "nbconvert_exporter": "python",
   "pygments_lexer": "ipython3",
   "version": "3.12.4"
  }
 },
 "nbformat": 4,
 "nbformat_minor": 5
}
